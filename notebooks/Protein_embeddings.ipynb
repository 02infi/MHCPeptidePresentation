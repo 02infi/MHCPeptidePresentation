{
 "cells": [
  {
   "cell_type": "code",
   "execution_count": 1,
   "metadata": {},
   "outputs": [],
   "source": [
    "import numpy as np\n",
    "import pandas as pd"
   ]
  },
  {
   "cell_type": "code",
   "execution_count": 2,
   "metadata": {},
   "outputs": [],
   "source": [
    "from Bio import SeqIO\n",
    "from Bio import Seq\n",
    "from Bio.Align import MultipleSeqAlignment\n",
    "from Bio.Align.AlignInfo import SummaryInfo"
   ]
  },
  {
   "cell_type": "code",
   "execution_count": 5,
   "metadata": {},
   "outputs": [],
   "source": [
    "from bio_embeddings.embed import ProtTransBertBFDEmbedder\n"
   ]
  },
  {
   "cell_type": "code",
   "execution_count": 6,
   "metadata": {},
   "outputs": [],
   "source": [
    "# Reading the files and storing in the object fold_0\n",
    "fold_0 = pd.read_csv(\"/home/gaurav/Gaurav/Berlin/Proposals/Test/InstaDeep/data/fold_0.csv\") #128\n",
    "fold_1 = pd.read_csv(\"/home/gaurav/Gaurav/Berlin/Proposals/Test/InstaDeep/data/fold_1.csv\") #129\n",
    "fold_2 = pd.read_csv(\"/home/gaurav/Gaurav/Berlin/Proposals/Test/InstaDeep/data/fold_2.csv\") #127\n",
    "fold_3 = pd.read_csv(\"/home/gaurav/Gaurav/Berlin/Proposals/Test/InstaDeep/data/fold_3.csv\") #130\n",
    "fold_4 = pd.read_csv(\"/home/gaurav/Gaurav/Berlin/Proposals/Test/InstaDeep/data/fold_4.csv\") #128\n",
    "fold_test = pd.read_csv(\"/home/gaurav/Gaurav/Berlin/Proposals/Test/InstaDeep/data/test.csv\") #36"
   ]
  },
  {
   "cell_type": "code",
   "execution_count": 7,
   "metadata": {},
   "outputs": [],
   "source": [
    "fold_test[\"allele\"] = fold_test[\"allele\"].str[:-5] + '*' + fold_test[\"allele\"].str[-5:]"
   ]
  },
  {
   "cell_type": "code",
   "execution_count": 8,
   "metadata": {},
   "outputs": [],
   "source": [
    "frames = [fold_0, fold_1, fold_2,fold_3,fold_4,fold_test]\n",
    "fold_data = pd.concat(frames)"
   ]
  },
  {
   "cell_type": "code",
   "execution_count": 9,
   "metadata": {},
   "outputs": [],
   "source": [
    "embeddings_df = pd.DataFrame(np.unique(fold_data['allele']),columns=[\"allele\"])"
   ]
  },
  {
   "cell_type": "code",
   "execution_count": 10,
   "metadata": {},
   "outputs": [],
   "source": [
    "embeddings_df[\"allele_id\"] = embeddings_df[\"allele\"].str[-7:]\n",
    "embeddings_df[\"hla_type\"] = embeddings_df[\"allele\"].str[:5]"
   ]
  },
  {
   "cell_type": "code",
   "execution_count": 11,
   "metadata": {},
   "outputs": [
    {
     "data": {
      "text/html": [
       "<div>\n",
       "<style scoped>\n",
       "    .dataframe tbody tr th:only-of-type {\n",
       "        vertical-align: middle;\n",
       "    }\n",
       "\n",
       "    .dataframe tbody tr th {\n",
       "        vertical-align: top;\n",
       "    }\n",
       "\n",
       "    .dataframe thead th {\n",
       "        text-align: right;\n",
       "    }\n",
       "</style>\n",
       "<table border=\"1\" class=\"dataframe\">\n",
       "  <thead>\n",
       "    <tr style=\"text-align: right;\">\n",
       "      <th></th>\n",
       "      <th>allele</th>\n",
       "      <th>allele_id</th>\n",
       "      <th>hla_type</th>\n",
       "    </tr>\n",
       "  </thead>\n",
       "  <tbody>\n",
       "    <tr>\n",
       "      <th>0</th>\n",
       "      <td>HLA-A*01:01</td>\n",
       "      <td>A*01:01</td>\n",
       "      <td>HLA-A</td>\n",
       "    </tr>\n",
       "    <tr>\n",
       "      <th>1</th>\n",
       "      <td>HLA-A*01:03</td>\n",
       "      <td>A*01:03</td>\n",
       "      <td>HLA-A</td>\n",
       "    </tr>\n",
       "    <tr>\n",
       "      <th>2</th>\n",
       "      <td>HLA-A*02:01</td>\n",
       "      <td>A*02:01</td>\n",
       "      <td>HLA-A</td>\n",
       "    </tr>\n",
       "    <tr>\n",
       "      <th>3</th>\n",
       "      <td>HLA-A*02:02</td>\n",
       "      <td>A*02:02</td>\n",
       "      <td>HLA-A</td>\n",
       "    </tr>\n",
       "    <tr>\n",
       "      <th>4</th>\n",
       "      <td>HLA-A*02:03</td>\n",
       "      <td>A*02:03</td>\n",
       "      <td>HLA-A</td>\n",
       "    </tr>\n",
       "    <tr>\n",
       "      <th>...</th>\n",
       "      <td>...</td>\n",
       "      <td>...</td>\n",
       "      <td>...</td>\n",
       "    </tr>\n",
       "    <tr>\n",
       "      <th>129</th>\n",
       "      <td>HLA-C*12:04</td>\n",
       "      <td>C*12:04</td>\n",
       "      <td>HLA-C</td>\n",
       "    </tr>\n",
       "    <tr>\n",
       "      <th>130</th>\n",
       "      <td>HLA-C*14:02</td>\n",
       "      <td>C*14:02</td>\n",
       "      <td>HLA-C</td>\n",
       "    </tr>\n",
       "    <tr>\n",
       "      <th>131</th>\n",
       "      <td>HLA-C*15:02</td>\n",
       "      <td>C*15:02</td>\n",
       "      <td>HLA-C</td>\n",
       "    </tr>\n",
       "    <tr>\n",
       "      <th>132</th>\n",
       "      <td>HLA-C*16:01</td>\n",
       "      <td>C*16:01</td>\n",
       "      <td>HLA-C</td>\n",
       "    </tr>\n",
       "    <tr>\n",
       "      <th>133</th>\n",
       "      <td>HLA-C*17:01</td>\n",
       "      <td>C*17:01</td>\n",
       "      <td>HLA-C</td>\n",
       "    </tr>\n",
       "  </tbody>\n",
       "</table>\n",
       "<p>134 rows × 3 columns</p>\n",
       "</div>"
      ],
      "text/plain": [
       "          allele allele_id hla_type\n",
       "0    HLA-A*01:01   A*01:01    HLA-A\n",
       "1    HLA-A*01:03   A*01:03    HLA-A\n",
       "2    HLA-A*02:01   A*02:01    HLA-A\n",
       "3    HLA-A*02:02   A*02:02    HLA-A\n",
       "4    HLA-A*02:03   A*02:03    HLA-A\n",
       "..           ...       ...      ...\n",
       "129  HLA-C*12:04   C*12:04    HLA-C\n",
       "130  HLA-C*14:02   C*14:02    HLA-C\n",
       "131  HLA-C*15:02   C*15:02    HLA-C\n",
       "132  HLA-C*16:01   C*16:01    HLA-C\n",
       "133  HLA-C*17:01   C*17:01    HLA-C\n",
       "\n",
       "[134 rows x 3 columns]"
      ]
     },
     "execution_count": 11,
     "metadata": {},
     "output_type": "execute_result"
    }
   ],
   "source": [
    "embeddings_df"
   ]
  },
  {
   "cell_type": "code",
   "execution_count": 12,
   "metadata": {},
   "outputs": [],
   "source": [
    "def consensus_sequence(sequences_list):\n",
    "        # pad sequences so that they all have the same length\n",
    "    maxlen = max(len(sequence.seq) for sequence in sequences_list)        \n",
    "    for sequence in sequences_list:\n",
    "        if len(sequence.seq) != maxlen:\n",
    "            sequence_incomp = str(sequence.seq).ljust(maxlen, '.')\n",
    "            sequence.seq = Seq.Seq(sequence_incomp)\n",
    "    assert all(len(sequence.seq) == maxlen for sequence in sequences_list)\n",
    "\n",
    "    common_alignment = MultipleSeqAlignment((sequences_list))\n",
    "    summary = SummaryInfo(common_alignment)\n",
    "    consensus = summary.dumb_consensus(0.6, \".\")\n",
    "    return consensus    "
   ]
  },
  {
   "cell_type": "code",
   "execution_count": 13,
   "metadata": {},
   "outputs": [],
   "source": [
    "embeddings_df[\"sequence\"] = \"sequence\"\n",
    "embeddings_df[\"protein_embed\"] = 0\n",
    "embeddings_df[\"residue_embed\"] = 0"
   ]
  },
  {
   "cell_type": "code",
   "execution_count": 14,
   "metadata": {},
   "outputs": [],
   "source": [
    "HLA_type = np.unique(embeddings_df['hla_type'])\n",
    "fasta_files = [\"A_prot.fasta.txt\",\"B_prot.fasta.txt\",\"C_prot.fasta.txt\"]\n",
    "path_fasta = \"/home/gaurav/Gaurav/Berlin/Proposals/Test/InstaDeep/data/\""
   ]
  },
  {
   "cell_type": "code",
   "execution_count": 15,
   "metadata": {
    "scrolled": true
   },
   "outputs": [],
   "source": [
    "sequences_list = []\n",
    "for hla,hla_fasta in zip(HLA_type,fasta_files):\n",
    "    fasta_file = path_fasta + str(hla_fasta)\n",
    "    hla_list = embeddings_df[embeddings_df[\"hla_type\"] == hla][\"allele_id\"]\n",
    "    for var_allelle_id in hla_list:\n",
    "        sequences_list = []\n",
    "        for seq_record in SeqIO.parse(fasta_file, 'fasta'):\n",
    "            if (seq_record.description[13:20] == var_allelle_id):\n",
    "                sequences_list.append(seq_record)\n",
    "        #print(var_allelle_id,)    \n",
    "        cons_seq = consensus_sequence(sequences_list)\n",
    "        #embeddings_df[\"embeddings\"] = protein_embeddings(sequences_list)\n",
    "        #embeddings_df[\"sequence\"] = str(cons_seq)\n",
    "        embeddings_df.loc[embeddings_df[\"allele_id\"] == var_allelle_id ,\"sequence\"] = str(cons_seq)\n",
    "            "
   ]
  },
  {
   "cell_type": "code",
   "execution_count": 17,
   "metadata": {},
   "outputs": [],
   "source": [
    "def protein_embeddings(sequences):\n",
    "    embedder = ProtTransBertBFDEmbedder()\n",
    "    embeddings = embedder.embed_many([s for s in sequences])\n",
    "    embeddings = list(embeddings)\n",
    "    reduced_embeddings = [embedder.reduce_per_protein(e) for e in embeddings]\n",
    "    return reduced_embeddings, embeddings"
   ]
  },
  {
   "cell_type": "code",
   "execution_count": 18,
   "metadata": {},
   "outputs": [
    {
     "name": "stderr",
     "output_type": "stream",
     "text": [
      "/home/gaurav/anaconda3/envs/Zebrafish/lib/python3.7/site-packages/torch/cuda/__init__.py:80: UserWarning: CUDA initialization: The NVIDIA driver on your system is too old (found version 10010). Please update your GPU driver by downloading and installing a new version from the URL: http://www.nvidia.com/Download/index.aspx Alternatively, go to: https://pytorch.org to install a PyTorch version that has been compiled with your version of the CUDA driver. (Triggered internally at  ../c10/cuda/CUDAFunctions.cpp:112.)\n",
      "  return torch._C._cuda_getDeviceCount() > 0\n",
      "Some weights of the model checkpoint at /home/gaurav/.cache/bio_embeddings/prottrans_bert_bfd/model_directory were not used when initializing BertModel: ['cls.predictions.decoder.weight', 'cls.predictions.decoder.bias', 'cls.predictions.transform.dense.bias', 'cls.seq_relationship.bias', 'cls.predictions.bias', 'cls.predictions.transform.LayerNorm.bias', 'cls.seq_relationship.weight', 'cls.predictions.transform.LayerNorm.weight', 'cls.predictions.transform.dense.weight']\n",
      "- This IS expected if you are initializing BertModel from the checkpoint of a model trained on another task or with another architecture (e.g. initializing a BertForSequenceClassification model from a BertForPreTraining model).\n",
      "- This IS NOT expected if you are initializing BertModel from the checkpoint of a model that you expect to be exactly identical (initializing a BertForSequenceClassification model from a BertForSequenceClassification model).\n"
     ]
    }
   ],
   "source": [
    "protein_emb,residue_emb = protein_embeddings(embeddings_df[\"sequence\"])"
   ]
  },
  {
   "cell_type": "code",
   "execution_count": 80,
   "metadata": {},
   "outputs": [],
   "source": [
    "embeddings_df[\"protein_embed\"] = pd.DataFrame(protein_emb).values.tolist()\n",
    "embeddings_df[\"residue_embed\"] = np.array(residue_emb,dtype=object)"
   ]
  },
  {
   "cell_type": "code",
   "execution_count": 89,
   "metadata": {},
   "outputs": [],
   "source": [
    "embeddings_df = embeddings_df.drop(columns =\"proteins\")"
   ]
  },
  {
   "cell_type": "code",
   "execution_count": 90,
   "metadata": {},
   "outputs": [],
   "source": [
    "embeddings_df.to_csv(\"/home/gaurav/Gaurav/Berlin/Proposals/Test/InstaDeep/data/HLA_embeddings.csv\",index=False)"
   ]
  },
  {
   "cell_type": "code",
   "execution_count": null,
   "metadata": {},
   "outputs": [],
   "source": []
  }
 ],
 "metadata": {
  "kernelspec": {
   "display_name": "Python 3 (ipykernel)",
   "language": "python",
   "name": "python3"
  },
  "language_info": {
   "codemirror_mode": {
    "name": "ipython",
    "version": 3
   },
   "file_extension": ".py",
   "mimetype": "text/x-python",
   "name": "python",
   "nbconvert_exporter": "python",
   "pygments_lexer": "ipython3",
   "version": "3.10.4"
  }
 },
 "nbformat": 4,
 "nbformat_minor": 4
}
