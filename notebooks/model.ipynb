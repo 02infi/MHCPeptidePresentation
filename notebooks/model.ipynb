{
 "cells": [
  {
   "cell_type": "code",
   "execution_count": 1,
   "metadata": {},
   "outputs": [],
   "source": [
    "import numpy as np\n",
    "import pandas as pd\n",
    "import torch\n",
    "import torch.nn as nn\n",
    "import torch.optim as optim\n",
    "from torch import Tensor\n",
    "from sklearn.model_selection import train_test_split\n",
    "from torch.utils.data import DataLoader\n",
    "from pytorch_lightning import LightningDataModule, LightningModule\n",
    "from pytorch_lightning import Trainer\n",
    "import os\n",
    "os.environ['KMP_DUPLICATE_LIB_OK']='True'\n",
    "from torch.utils.tensorboard import SummaryWriter\n",
    "from pytorch_lightning.loggers import TensorBoardLogger"
   ]
  },
  {
   "cell_type": "code",
   "execution_count": 2,
   "metadata": {},
   "outputs": [],
   "source": [
    "from sklearn.metrics import accuracy_score"
   ]
  },
  {
   "cell_type": "code",
   "execution_count": 3,
   "metadata": {},
   "outputs": [],
   "source": [
    "writer = SummaryWriter()\n"
   ]
  },
  {
   "cell_type": "code",
   "execution_count": 7,
   "metadata": {},
   "outputs": [],
   "source": [
    "class MHClassifier(nn.Module):\n",
    "    def __init__(self, peptide_input, protein_input, peptide_hideen_layers, protein_hideen_layers,peptide_protein_hideen_layers, output_size):\n",
    "        super(MHClassifier, self).__init__()\n",
    "\n",
    "        self.device = 'cpu' \n",
    "\n",
    "        ## Peptide encoder \n",
    "        layer_modules = []\n",
    "        bias = False\n",
    "        input_p = peptide_input\n",
    "        for layer in peptide_hideen_layers:\n",
    "            layer_modules.append(\n",
    "                nn.Sequential(\n",
    "                    nn.Linear(input_p,out_features = layer,bias=bias),\n",
    "                    nn.BatchNorm1d(layer),\n",
    "                    nn.ReLU(),\n",
    "                    #nn.Dropout(p=0.3)\n",
    "                    )\n",
    "                )\n",
    "            input_p = layer\n",
    "\n",
    "        self.layers_peptide = nn.Sequential(*layer_modules)\n",
    "\n",
    "        ## Protein encoder \n",
    "        ## Protein encoder \n",
    "        layer_modules = []\n",
    "        bias = False\n",
    "        input_pro = protein_input\n",
    "        for layer in protein_hideen_layers:\n",
    "            layer_modules.append(\n",
    "                nn.Sequential(\n",
    "                    nn.Linear(input_pro,out_features = layer,bias=bias),\n",
    "                    #nn.BatchNorm1d(layer),\n",
    "                    #nn.ReLU(),\n",
    "                    #nn.Dropout(p=drop_rate)\n",
    "                    )\n",
    "                )\n",
    "            input_pro = layer\n",
    "            \n",
    "\n",
    "        self.layers_protein = nn.Sequential(*layer_modules)\n",
    "        \n",
    "        ## Protein-Peptide Concatenation layer\n",
    "        layer_modules = []\n",
    "        bias = False\n",
    "        self.peptide_protein_concat = nn.Linear(input_p + input_pro, input_p + input_pro)\n",
    "        \n",
    "        ## Protein-Peptide combined network \n",
    "        layer_modules = []\n",
    "        bias = False\n",
    "        input_combined = input_p + input_pro\n",
    "        for layer in peptide_protein_hideen_layers:\n",
    "            layer_modules.append(\n",
    "                nn.Sequential(\n",
    "                    nn.Linear(input_combined,out_features = layer,bias=bias),\n",
    "                    nn.BatchNorm1d(layer),\n",
    "                    #nn.ReLU(),\n",
    "                    #nn.Dropout(p=drop_rate)\n",
    "                    )\n",
    "                )\n",
    "            input_combined = layer\n",
    "        #layer_modules.append(nn.sigmoid())\n",
    "\n",
    "        self.Combined_Peptide_protein_layer = nn.Sequential(*layer_modules)\n",
    "\n",
    "        \n",
    "    def forward(self, peptide:Tensor, protein:Tensor): \n",
    "        pep = self.layers_peptide(peptide)\n",
    "        pro = self.layers_protein(protein)\n",
    "        conct_pep_pro = torch.cat((pep, pro), dim=1)\n",
    "        combined_pep_pro = self.peptide_protein_concat(conct_pep_pro)\n",
    "        final_output = self.Combined_Peptide_protein_layer(combined_pep_pro)\n",
    "        return final_output"
   ]
  },
  {
   "cell_type": "code",
   "execution_count": 8,
   "metadata": {},
   "outputs": [],
   "source": [
    "class DataPlanner(LightningDataModule):\n",
    "    def __init__(self, X1, X2, y, batch_size,workers):\n",
    "        super().__init__()\n",
    "        self.X1 = X1\n",
    "        self.X2 = X2\n",
    "        self.y = y\n",
    "        self.batch_size = batch_size\n",
    "        self.workers = workers\n",
    "\n",
    "    def setup(self, stage=None):\n",
    "        X1_train, X1_val, X2_train, X2_val, y_train, y_val = train_test_split(self.X1, self.X2, self.y, test_size=0.3, random_state=42)\n",
    "        self.train_data = torch.utils.data.TensorDataset(torch.tensor(X1_train,dtype=torch.float), torch.tensor(X2_train,dtype=torch.float), torch.tensor(y_train,dtype=torch.float).unsqueeze(1))\n",
    "        self.val_data = torch.utils.data.TensorDataset(torch.tensor(X1_val,dtype=torch.float), torch.tensor(X2_val,dtype=torch.float), torch.tensor(y_val,dtype=torch.float).unsqueeze(1))\n",
    "\n",
    "    def train_dataloader(self):\n",
    "        return torch.utils.data.DataLoader(self.train_data, batch_size=self.batch_size, shuffle=True,num_workers=self.workers)\n",
    "\n",
    "    def val_dataloader(self):\n",
    "        return torch.utils.data.DataLoader(self.val_data, batch_size=self.batch_size)"
   ]
  },
  {
   "cell_type": "code",
   "execution_count": 9,
   "metadata": {},
   "outputs": [],
   "source": [
    "\n",
    "class LightningModel(LightningModule):\n",
    "    def __init__(self, model):\n",
    "        super().__init__()\n",
    "        self.model = model\n",
    "        self.criterion = nn.BCEWithLogitsLoss()  # Binary cross-entropy loss\n",
    "\n",
    "    def forward(self, x1, x2):\n",
    "        return self.model(x1, x2)\n",
    "\n",
    "    def training_step(self, batch, batch_idx):\n",
    "        x1, x2, y = batch\n",
    "        outputs = self(x1, x2)\n",
    "        loss = self.criterion(outputs, y)\n",
    "        self.log('train_loss', loss)\n",
    "        return loss\n",
    "\n",
    "    def validation_step(self, batch, batch_idx):\n",
    "        x1, x2, y = batch\n",
    "        outputs = self(x1, x2)\n",
    "        loss = self.criterion(outputs, y)\n",
    "        self.log('val_loss', loss)\n",
    "\n",
    "    def configure_optimizers(self):\n",
    "        return optim.Adam(self.parameters(), lr=0.001)\n",
    "    \n",
    "    def predict(self, x1, x2):\n",
    "        self.eval()\n",
    "        with torch.no_grad():\n",
    "            output = torch.sigmoid(self(x1, x2)\n",
    "            return output    "
   ]
  },
  {
   "cell_type": "code",
   "execution_count": null,
   "metadata": {},
   "outputs": [],
   "source": []
  },
  {
   "cell_type": "code",
   "execution_count": 10,
   "metadata": {},
   "outputs": [],
   "source": [
    "# Input the data and modify for training the model\n",
    "fold_train = pd.read_csv(\"/home/gaurav/Gaurav/Berlin/Proposals/Test/InstaDeep/data/fold_train.csv\") \n",
    "fold_test = pd.read_csv(\"/home/gaurav/Gaurav/Berlin/Proposals/Test/InstaDeep/data/fold_test.csv\") \n",
    "HLA_embeddings = pd.read_csv(\"/home/gaurav/Gaurav/Berlin/Proposals/Test/InstaDeep/data/HLA_embeddings.csv\")"
   ]
  },
  {
   "cell_type": "code",
   "execution_count": 11,
   "metadata": {},
   "outputs": [],
   "source": [
    "HLA_embeddings[\"protein_embed\"] = [np.array(list(eval(s))) for s in HLA_embeddings[\"protein_embed\"]]"
   ]
  },
  {
   "cell_type": "code",
   "execution_count": 12,
   "metadata": {},
   "outputs": [],
   "source": [
    "# Encoding the peptide sequence using one hot encoding\n",
    "def one_hot_encoding(sequence):\n",
    "    # Define the mapping of amino acids to indices\n",
    "    amino_acids = 'ACDEFGHIKLMNPQRSTVWY'\n",
    "    aa_to_index = {aa: i for i, aa in enumerate(amino_acids)}\n",
    "\n",
    "    # Initialize the one-hot encoded array\n",
    "    num_amino_acids = len(amino_acids)\n",
    "    encoding = np.zeros((len(sequence), num_amino_acids))\n",
    "\n",
    "    # Encode each amino acid in the sequence\n",
    "    for i, aa in enumerate(sequence):\n",
    "        if aa in aa_to_index:\n",
    "            index = aa_to_index[aa]\n",
    "            encoding[i][index] = 1\n",
    "        else:\n",
    "            # Handle unknown amino acids (e.g., 'X')\n",
    "            encoding[i][-1] = 1\n",
    "\n",
    "    return encoding.ravel()"
   ]
  },
  {
   "cell_type": "code",
   "execution_count": 13,
   "metadata": {},
   "outputs": [],
   "source": [
    "#fold_train['peptide_input'] = fold_train['clean_peptide'].apply(one_hot_encoding)\n",
    "#fold_test['peptide_input'] = fold_test['clean_peptide'].apply(one_hot_encoding)"
   ]
  },
  {
   "cell_type": "code",
   "execution_count": 14,
   "metadata": {},
   "outputs": [],
   "source": [
    "train_data = fold_train.merge(HLA_embeddings,left_on=\"allele\",right_on=\"allele\")\n",
    "test_data = fold_test.merge(HLA_embeddings,left_on=\"allele\",right_on=\"allele\")"
   ]
  },
  {
   "cell_type": "code",
   "execution_count": 15,
   "metadata": {},
   "outputs": [],
   "source": [
    "fold_0_train = train_data[train_data[\"data\"] == \"fold_0\"]\n"
   ]
  },
  {
   "cell_type": "code",
   "execution_count": 16,
   "metadata": {},
   "outputs": [
    {
     "name": "stderr",
     "output_type": "stream",
     "text": [
      "/tmp/ipykernel_25086/4203387904.py:1: SettingWithCopyWarning: \n",
      "A value is trying to be set on a copy of a slice from a DataFrame.\n",
      "Try using .loc[row_indexer,col_indexer] = value instead\n",
      "\n",
      "See the caveats in the documentation: https://pandas.pydata.org/pandas-docs/stable/user_guide/indexing.html#returning-a-view-versus-a-copy\n",
      "  fold_0_train['peptide_input'] = fold_0_train['clean_peptide'].apply(one_hot_encoding)\n"
     ]
    }
   ],
   "source": [
    "fold_0_train['peptide_input'] = fold_0_train['clean_peptide'].apply(one_hot_encoding)\n"
   ]
  },
  {
   "cell_type": "code",
   "execution_count": 17,
   "metadata": {},
   "outputs": [],
   "source": [
    "X1_train, X1_test, X2_train, X2_test, y_train, y_test = train_test_split(fold_0_train[\"peptide_input\"], fold_0_train[\"protein_embed\"], fold_0_train[\"hit\"], test_size=0.2, random_state=42,stratify = fold_0_train[\"hit\"])\n"
   ]
  },
  {
   "cell_type": "code",
   "execution_count": 18,
   "metadata": {},
   "outputs": [],
   "source": [
    "X1_train = np.array(X1_train.tolist())\n",
    "X2_train = np.array(X2_train.tolist())\n",
    "y_train = np.array(y_train.tolist())"
   ]
  },
  {
   "cell_type": "code",
   "execution_count": 19,
   "metadata": {
    "scrolled": false
   },
   "outputs": [
    {
     "name": "stderr",
     "output_type": "stream",
     "text": [
      "/home/gaurav/anaconda3/envs/project/lib/python3.10/site-packages/torch/cuda/__init__.py:82: UserWarning: CUDA initialization: The NVIDIA driver on your system is too old (found version 10010). Please update your GPU driver by downloading and installing a new version from the URL: http://www.nvidia.com/Download/index.aspx Alternatively, go to: https://pytorch.org to install a PyTorch version that has been compiled with your version of the CUDA driver. (Triggered internally at  /opt/conda/conda-bld/pytorch_1646755853668/work/c10/cuda/CUDAFunctions.cpp:112.)\n",
      "  return torch._C._cuda_getDeviceCount() > 0\n",
      "GPU available: False, used: False\n",
      "TPU available: False, using: 0 TPU cores\n",
      "IPU available: False, using: 0 IPUs\n",
      "HPU available: False, using: 0 HPUs\n",
      "/home/gaurav/anaconda3/envs/project/lib/python3.10/site-packages/torch/cuda/__init__.py:82: UserWarning: CUDA initialization: The NVIDIA driver on your system is too old (found version 10010). Please update your GPU driver by downloading and installing a new version from the URL: http://www.nvidia.com/Download/index.aspx Alternatively, go to: https://pytorch.org to install a PyTorch version that has been compiled with your version of the CUDA driver. (Triggered internally at  /opt/conda/conda-bld/pytorch_1646755853668/work/c10/cuda/CUDAFunctions.cpp:112.)\n",
      "  return torch._C._cuda_getDeviceCount() > 0\n"
     ]
    }
   ],
   "source": [
    "# Define hidden layers and input data sizes\n",
    "peptide_input = 180  # Length of peptide sequence 8 * 20 = 160 \n",
    "protein_input = 1024  # Dimension of categorical variable defining protein sequence\n",
    "peptide_hideen_layers = [90,18]  # Hidden layers for peptide network \n",
    "protein_hideen_layers = [512,18]  # Hidden layers for protein network \n",
    "peptide_protein_hideen_layers = [36,1] # Hidden layers size for protein-peptide concatenated network\n",
    "output_size = 1  # Output size\n",
    "batch_size = 1000 # batch size \n",
    "workers = 10 # number of cpu/gpu cores\n",
    "\n",
    "# Create model instance\n",
    "model = MHClassifier(peptide_input, protein_input, peptide_hideen_layers, protein_hideen_layers,peptide_protein_hideen_layers, output_size)\n",
    "\n",
    "# Create Lightning model\n",
    "lightning_model = LightningModel(model)\n",
    "\n",
    "# Create DataModule and input the data\n",
    "data_module = DataPlanner(X1_train,X2_train, y_train, batch_size,workers)\n",
    "\n",
    "# Defining the logger object\n",
    "logger = TensorBoardLogger(\"/home/gaurav/Gaurav/Berlin/Proposals/Test/InstaDeep/notebooks/\",name=\"MHClassifier\")\n",
    "\n",
    "# Create Trainer\n",
    "trainer = Trainer(max_epochs=30,accelerator='cpu',logger=logger)\n",
    "\n"
   ]
  },
  {
   "cell_type": "code",
   "execution_count": 20,
   "metadata": {},
   "outputs": [
    {
     "data": {
      "text/plain": [
       "MHClassifier(\n",
       "  (layers_peptide): Sequential(\n",
       "    (0): Sequential(\n",
       "      (0): Linear(in_features=180, out_features=90, bias=False)\n",
       "      (1): BatchNorm1d(90, eps=1e-05, momentum=0.1, affine=True, track_running_stats=True)\n",
       "      (2): ReLU()\n",
       "    )\n",
       "    (1): Sequential(\n",
       "      (0): Linear(in_features=90, out_features=18, bias=False)\n",
       "      (1): BatchNorm1d(18, eps=1e-05, momentum=0.1, affine=True, track_running_stats=True)\n",
       "      (2): ReLU()\n",
       "    )\n",
       "  )\n",
       "  (layers_protein): Sequential(\n",
       "    (0): Sequential(\n",
       "      (0): Linear(in_features=1024, out_features=512, bias=False)\n",
       "    )\n",
       "    (1): Sequential(\n",
       "      (0): Linear(in_features=512, out_features=18, bias=False)\n",
       "    )\n",
       "  )\n",
       "  (peptide_protein_concat): Linear(in_features=36, out_features=36, bias=True)\n",
       "  (Combined_Peptide_protein_layer): Sequential(\n",
       "    (0): Sequential(\n",
       "      (0): Linear(in_features=36, out_features=36, bias=False)\n",
       "      (1): BatchNorm1d(36, eps=1e-05, momentum=0.1, affine=True, track_running_stats=True)\n",
       "    )\n",
       "    (1): Sequential(\n",
       "      (0): Linear(in_features=36, out_features=1, bias=False)\n",
       "      (1): BatchNorm1d(1, eps=1e-05, momentum=0.1, affine=True, track_running_stats=True)\n",
       "    )\n",
       "  )\n",
       ")"
      ]
     },
     "execution_count": 20,
     "metadata": {},
     "output_type": "execute_result"
    }
   ],
   "source": [
    "model"
   ]
  },
  {
   "cell_type": "code",
   "execution_count": 21,
   "metadata": {
    "scrolled": true
   },
   "outputs": [
    {
     "name": "stderr",
     "output_type": "stream",
     "text": [
      "\n",
      "  | Name      | Type              | Params\n",
      "------------------------------------------------\n",
      "0 | model     | MHClassifier      | 554 K \n",
      "1 | criterion | BCEWithLogitsLoss | 0     \n",
      "------------------------------------------------\n",
      "554 K     Trainable params\n",
      "0         Non-trainable params\n",
      "554 K     Total params\n",
      "2.217     Total estimated model params size (MB)\n"
     ]
    },
    {
     "data": {
      "application/json": {
       "ascii": false,
       "bar_format": null,
       "colour": null,
       "elapsed": 0.02194070816040039,
       "initial": 0,
       "n": 0,
       "ncols": 150,
       "nrows": 30,
       "postfix": null,
       "prefix": "Sanity Checking",
       "rate": null,
       "total": null,
       "unit": "it",
       "unit_divisor": 1000,
       "unit_scale": false
      },
      "application/vnd.jupyter.widget-view+json": {
       "model_id": "",
       "version_major": 2,
       "version_minor": 0
      },
      "text/plain": [
       "Sanity Checking: 0it [00:00, ?it/s]"
      ]
     },
     "metadata": {},
     "output_type": "display_data"
    },
    {
     "name": "stderr",
     "output_type": "stream",
     "text": [
      "/home/gaurav/anaconda3/envs/project/lib/python3.10/site-packages/pytorch_lightning/trainer/connectors/data_connector.py:236: PossibleUserWarning: The dataloader, val_dataloader 0, does not have many workers which may be a bottleneck. Consider increasing the value of the `num_workers` argument` (try 12 which is the number of cpus on this machine) in the `DataLoader` init to improve performance.\n",
      "  rank_zero_warn(\n"
     ]
    },
    {
     "data": {
      "application/json": {
       "ascii": false,
       "bar_format": null,
       "colour": null,
       "elapsed": 0.023493289947509766,
       "initial": 0,
       "n": 0,
       "ncols": 150,
       "nrows": 30,
       "postfix": null,
       "prefix": "Training",
       "rate": null,
       "total": null,
       "unit": "it",
       "unit_divisor": 1000,
       "unit_scale": false
      },
      "application/vnd.jupyter.widget-view+json": {
       "model_id": "e1dda036882d45b19aafdb2578a9ea25",
       "version_major": 2,
       "version_minor": 0
      },
      "text/plain": [
       "Training: 0it [00:00, ?it/s]"
      ]
     },
     "metadata": {},
     "output_type": "display_data"
    },
    {
     "name": "stderr",
     "output_type": "stream",
     "text": [
      "/home/gaurav/anaconda3/envs/project/lib/python3.10/site-packages/torch/autograd/__init__.py:173: UserWarning: CUDA initialization: The NVIDIA driver on your system is too old (found version 10010). Please update your GPU driver by downloading and installing a new version from the URL: http://www.nvidia.com/Download/index.aspx Alternatively, go to: https://pytorch.org to install a PyTorch version that has been compiled with your version of the CUDA driver. (Triggered internally at  /opt/conda/conda-bld/pytorch_1646755853668/work/c10/cuda/CUDAFunctions.cpp:112.)\n",
      "  Variable._execution_engine.run_backward(  # Calls into the C++ engine to run the backward pass\n"
     ]
    },
    {
     "data": {
      "application/json": {
       "ascii": false,
       "bar_format": null,
       "colour": null,
       "elapsed": 0.023740768432617188,
       "initial": 0,
       "n": 0,
       "ncols": 150,
       "nrows": 30,
       "postfix": null,
       "prefix": "Validation",
       "rate": null,
       "total": null,
       "unit": "it",
       "unit_divisor": 1000,
       "unit_scale": false
      },
      "application/vnd.jupyter.widget-view+json": {
       "model_id": "",
       "version_major": 2,
       "version_minor": 0
      },
      "text/plain": [
       "Validation: 0it [00:00, ?it/s]"
      ]
     },
     "metadata": {},
     "output_type": "display_data"
    },
    {
     "data": {
      "application/json": {
       "ascii": false,
       "bar_format": null,
       "colour": null,
       "elapsed": 0.02453160285949707,
       "initial": 0,
       "n": 0,
       "ncols": 150,
       "nrows": 30,
       "postfix": null,
       "prefix": "Validation",
       "rate": null,
       "total": null,
       "unit": "it",
       "unit_divisor": 1000,
       "unit_scale": false
      },
      "application/vnd.jupyter.widget-view+json": {
       "model_id": "",
       "version_major": 2,
       "version_minor": 0
      },
      "text/plain": [
       "Validation: 0it [00:00, ?it/s]"
      ]
     },
     "metadata": {},
     "output_type": "display_data"
    },
    {
     "data": {
      "application/json": {
       "ascii": false,
       "bar_format": null,
       "colour": null,
       "elapsed": 0.02802896499633789,
       "initial": 0,
       "n": 0,
       "ncols": 150,
       "nrows": 30,
       "postfix": null,
       "prefix": "Validation",
       "rate": null,
       "total": null,
       "unit": "it",
       "unit_divisor": 1000,
       "unit_scale": false
      },
      "application/vnd.jupyter.widget-view+json": {
       "model_id": "",
       "version_major": 2,
       "version_minor": 0
      },
      "text/plain": [
       "Validation: 0it [00:00, ?it/s]"
      ]
     },
     "metadata": {},
     "output_type": "display_data"
    },
    {
     "data": {
      "application/json": {
       "ascii": false,
       "bar_format": null,
       "colour": null,
       "elapsed": 0.024927377700805664,
       "initial": 0,
       "n": 0,
       "ncols": 150,
       "nrows": 30,
       "postfix": null,
       "prefix": "Validation",
       "rate": null,
       "total": null,
       "unit": "it",
       "unit_divisor": 1000,
       "unit_scale": false
      },
      "application/vnd.jupyter.widget-view+json": {
       "model_id": "",
       "version_major": 2,
       "version_minor": 0
      },
      "text/plain": [
       "Validation: 0it [00:00, ?it/s]"
      ]
     },
     "metadata": {},
     "output_type": "display_data"
    },
    {
     "data": {
      "application/json": {
       "ascii": false,
       "bar_format": null,
       "colour": null,
       "elapsed": 0.019162893295288086,
       "initial": 0,
       "n": 0,
       "ncols": 150,
       "nrows": 30,
       "postfix": null,
       "prefix": "Validation",
       "rate": null,
       "total": null,
       "unit": "it",
       "unit_divisor": 1000,
       "unit_scale": false
      },
      "application/vnd.jupyter.widget-view+json": {
       "model_id": "",
       "version_major": 2,
       "version_minor": 0
      },
      "text/plain": [
       "Validation: 0it [00:00, ?it/s]"
      ]
     },
     "metadata": {},
     "output_type": "display_data"
    },
    {
     "data": {
      "application/json": {
       "ascii": false,
       "bar_format": null,
       "colour": null,
       "elapsed": 0.026815414428710938,
       "initial": 0,
       "n": 0,
       "ncols": 150,
       "nrows": 30,
       "postfix": null,
       "prefix": "Validation",
       "rate": null,
       "total": null,
       "unit": "it",
       "unit_divisor": 1000,
       "unit_scale": false
      },
      "application/vnd.jupyter.widget-view+json": {
       "model_id": "",
       "version_major": 2,
       "version_minor": 0
      },
      "text/plain": [
       "Validation: 0it [00:00, ?it/s]"
      ]
     },
     "metadata": {},
     "output_type": "display_data"
    },
    {
     "data": {
      "application/json": {
       "ascii": false,
       "bar_format": null,
       "colour": null,
       "elapsed": 0.023758888244628906,
       "initial": 0,
       "n": 0,
       "ncols": 150,
       "nrows": 30,
       "postfix": null,
       "prefix": "Validation",
       "rate": null,
       "total": null,
       "unit": "it",
       "unit_divisor": 1000,
       "unit_scale": false
      },
      "application/vnd.jupyter.widget-view+json": {
       "model_id": "",
       "version_major": 2,
       "version_minor": 0
      },
      "text/plain": [
       "Validation: 0it [00:00, ?it/s]"
      ]
     },
     "metadata": {},
     "output_type": "display_data"
    },
    {
     "data": {
      "application/json": {
       "ascii": false,
       "bar_format": null,
       "colour": null,
       "elapsed": 0.025873184204101562,
       "initial": 0,
       "n": 0,
       "ncols": 150,
       "nrows": 30,
       "postfix": null,
       "prefix": "Validation",
       "rate": null,
       "total": null,
       "unit": "it",
       "unit_divisor": 1000,
       "unit_scale": false
      },
      "application/vnd.jupyter.widget-view+json": {
       "model_id": "",
       "version_major": 2,
       "version_minor": 0
      },
      "text/plain": [
       "Validation: 0it [00:00, ?it/s]"
      ]
     },
     "metadata": {},
     "output_type": "display_data"
    },
    {
     "data": {
      "application/json": {
       "ascii": false,
       "bar_format": null,
       "colour": null,
       "elapsed": 0.024305105209350586,
       "initial": 0,
       "n": 0,
       "ncols": 150,
       "nrows": 30,
       "postfix": null,
       "prefix": "Validation",
       "rate": null,
       "total": null,
       "unit": "it",
       "unit_divisor": 1000,
       "unit_scale": false
      },
      "application/vnd.jupyter.widget-view+json": {
       "model_id": "",
       "version_major": 2,
       "version_minor": 0
      },
      "text/plain": [
       "Validation: 0it [00:00, ?it/s]"
      ]
     },
     "metadata": {},
     "output_type": "display_data"
    },
    {
     "data": {
      "application/json": {
       "ascii": false,
       "bar_format": null,
       "colour": null,
       "elapsed": 0.024620771408081055,
       "initial": 0,
       "n": 0,
       "ncols": 150,
       "nrows": 30,
       "postfix": null,
       "prefix": "Validation",
       "rate": null,
       "total": null,
       "unit": "it",
       "unit_divisor": 1000,
       "unit_scale": false
      },
      "application/vnd.jupyter.widget-view+json": {
       "model_id": "",
       "version_major": 2,
       "version_minor": 0
      },
      "text/plain": [
       "Validation: 0it [00:00, ?it/s]"
      ]
     },
     "metadata": {},
     "output_type": "display_data"
    },
    {
     "data": {
      "application/json": {
       "ascii": false,
       "bar_format": null,
       "colour": null,
       "elapsed": 0.02140951156616211,
       "initial": 0,
       "n": 0,
       "ncols": 150,
       "nrows": 30,
       "postfix": null,
       "prefix": "Validation",
       "rate": null,
       "total": null,
       "unit": "it",
       "unit_divisor": 1000,
       "unit_scale": false
      },
      "application/vnd.jupyter.widget-view+json": {
       "model_id": "",
       "version_major": 2,
       "version_minor": 0
      },
      "text/plain": [
       "Validation: 0it [00:00, ?it/s]"
      ]
     },
     "metadata": {},
     "output_type": "display_data"
    },
    {
     "data": {
      "application/json": {
       "ascii": false,
       "bar_format": null,
       "colour": null,
       "elapsed": 0.01982593536376953,
       "initial": 0,
       "n": 0,
       "ncols": 150,
       "nrows": 30,
       "postfix": null,
       "prefix": "Validation",
       "rate": null,
       "total": null,
       "unit": "it",
       "unit_divisor": 1000,
       "unit_scale": false
      },
      "application/vnd.jupyter.widget-view+json": {
       "model_id": "",
       "version_major": 2,
       "version_minor": 0
      },
      "text/plain": [
       "Validation: 0it [00:00, ?it/s]"
      ]
     },
     "metadata": {},
     "output_type": "display_data"
    },
    {
     "data": {
      "application/json": {
       "ascii": false,
       "bar_format": null,
       "colour": null,
       "elapsed": 0.02562427520751953,
       "initial": 0,
       "n": 0,
       "ncols": 150,
       "nrows": 30,
       "postfix": null,
       "prefix": "Validation",
       "rate": null,
       "total": null,
       "unit": "it",
       "unit_divisor": 1000,
       "unit_scale": false
      },
      "application/vnd.jupyter.widget-view+json": {
       "model_id": "",
       "version_major": 2,
       "version_minor": 0
      },
      "text/plain": [
       "Validation: 0it [00:00, ?it/s]"
      ]
     },
     "metadata": {},
     "output_type": "display_data"
    },
    {
     "data": {
      "application/json": {
       "ascii": false,
       "bar_format": null,
       "colour": null,
       "elapsed": 0.024776458740234375,
       "initial": 0,
       "n": 0,
       "ncols": 150,
       "nrows": 30,
       "postfix": null,
       "prefix": "Validation",
       "rate": null,
       "total": null,
       "unit": "it",
       "unit_divisor": 1000,
       "unit_scale": false
      },
      "application/vnd.jupyter.widget-view+json": {
       "model_id": "",
       "version_major": 2,
       "version_minor": 0
      },
      "text/plain": [
       "Validation: 0it [00:00, ?it/s]"
      ]
     },
     "metadata": {},
     "output_type": "display_data"
    },
    {
     "data": {
      "application/json": {
       "ascii": false,
       "bar_format": null,
       "colour": null,
       "elapsed": 0.024578571319580078,
       "initial": 0,
       "n": 0,
       "ncols": 150,
       "nrows": 30,
       "postfix": null,
       "prefix": "Validation",
       "rate": null,
       "total": null,
       "unit": "it",
       "unit_divisor": 1000,
       "unit_scale": false
      },
      "application/vnd.jupyter.widget-view+json": {
       "model_id": "",
       "version_major": 2,
       "version_minor": 0
      },
      "text/plain": [
       "Validation: 0it [00:00, ?it/s]"
      ]
     },
     "metadata": {},
     "output_type": "display_data"
    },
    {
     "data": {
      "application/json": {
       "ascii": false,
       "bar_format": null,
       "colour": null,
       "elapsed": 0.02054309844970703,
       "initial": 0,
       "n": 0,
       "ncols": 150,
       "nrows": 30,
       "postfix": null,
       "prefix": "Validation",
       "rate": null,
       "total": null,
       "unit": "it",
       "unit_divisor": 1000,
       "unit_scale": false
      },
      "application/vnd.jupyter.widget-view+json": {
       "model_id": "",
       "version_major": 2,
       "version_minor": 0
      },
      "text/plain": [
       "Validation: 0it [00:00, ?it/s]"
      ]
     },
     "metadata": {},
     "output_type": "display_data"
    },
    {
     "data": {
      "application/json": {
       "ascii": false,
       "bar_format": null,
       "colour": null,
       "elapsed": 0.028122663497924805,
       "initial": 0,
       "n": 0,
       "ncols": 150,
       "nrows": 30,
       "postfix": null,
       "prefix": "Validation",
       "rate": null,
       "total": null,
       "unit": "it",
       "unit_divisor": 1000,
       "unit_scale": false
      },
      "application/vnd.jupyter.widget-view+json": {
       "model_id": "",
       "version_major": 2,
       "version_minor": 0
      },
      "text/plain": [
       "Validation: 0it [00:00, ?it/s]"
      ]
     },
     "metadata": {},
     "output_type": "display_data"
    },
    {
     "data": {
      "application/json": {
       "ascii": false,
       "bar_format": null,
       "colour": null,
       "elapsed": 0.024240732192993164,
       "initial": 0,
       "n": 0,
       "ncols": 150,
       "nrows": 30,
       "postfix": null,
       "prefix": "Validation",
       "rate": null,
       "total": null,
       "unit": "it",
       "unit_divisor": 1000,
       "unit_scale": false
      },
      "application/vnd.jupyter.widget-view+json": {
       "model_id": "",
       "version_major": 2,
       "version_minor": 0
      },
      "text/plain": [
       "Validation: 0it [00:00, ?it/s]"
      ]
     },
     "metadata": {},
     "output_type": "display_data"
    },
    {
     "data": {
      "application/json": {
       "ascii": false,
       "bar_format": null,
       "colour": null,
       "elapsed": 0.021834373474121094,
       "initial": 0,
       "n": 0,
       "ncols": 150,
       "nrows": 30,
       "postfix": null,
       "prefix": "Validation",
       "rate": null,
       "total": null,
       "unit": "it",
       "unit_divisor": 1000,
       "unit_scale": false
      },
      "application/vnd.jupyter.widget-view+json": {
       "model_id": "",
       "version_major": 2,
       "version_minor": 0
      },
      "text/plain": [
       "Validation: 0it [00:00, ?it/s]"
      ]
     },
     "metadata": {},
     "output_type": "display_data"
    },
    {
     "data": {
      "application/json": {
       "ascii": false,
       "bar_format": null,
       "colour": null,
       "elapsed": 0.022486448287963867,
       "initial": 0,
       "n": 0,
       "ncols": 150,
       "nrows": 30,
       "postfix": null,
       "prefix": "Validation",
       "rate": null,
       "total": null,
       "unit": "it",
       "unit_divisor": 1000,
       "unit_scale": false
      },
      "application/vnd.jupyter.widget-view+json": {
       "model_id": "",
       "version_major": 2,
       "version_minor": 0
      },
      "text/plain": [
       "Validation: 0it [00:00, ?it/s]"
      ]
     },
     "metadata": {},
     "output_type": "display_data"
    },
    {
     "data": {
      "application/json": {
       "ascii": false,
       "bar_format": null,
       "colour": null,
       "elapsed": 0.019679546356201172,
       "initial": 0,
       "n": 0,
       "ncols": 150,
       "nrows": 30,
       "postfix": null,
       "prefix": "Validation",
       "rate": null,
       "total": null,
       "unit": "it",
       "unit_divisor": 1000,
       "unit_scale": false
      },
      "application/vnd.jupyter.widget-view+json": {
       "model_id": "",
       "version_major": 2,
       "version_minor": 0
      },
      "text/plain": [
       "Validation: 0it [00:00, ?it/s]"
      ]
     },
     "metadata": {},
     "output_type": "display_data"
    },
    {
     "data": {
      "application/json": {
       "ascii": false,
       "bar_format": null,
       "colour": null,
       "elapsed": 0.0257871150970459,
       "initial": 0,
       "n": 0,
       "ncols": 150,
       "nrows": 30,
       "postfix": null,
       "prefix": "Validation",
       "rate": null,
       "total": null,
       "unit": "it",
       "unit_divisor": 1000,
       "unit_scale": false
      },
      "application/vnd.jupyter.widget-view+json": {
       "model_id": "",
       "version_major": 2,
       "version_minor": 0
      },
      "text/plain": [
       "Validation: 0it [00:00, ?it/s]"
      ]
     },
     "metadata": {},
     "output_type": "display_data"
    },
    {
     "data": {
      "application/json": {
       "ascii": false,
       "bar_format": null,
       "colour": null,
       "elapsed": 0.02486705780029297,
       "initial": 0,
       "n": 0,
       "ncols": 150,
       "nrows": 30,
       "postfix": null,
       "prefix": "Validation",
       "rate": null,
       "total": null,
       "unit": "it",
       "unit_divisor": 1000,
       "unit_scale": false
      },
      "application/vnd.jupyter.widget-view+json": {
       "model_id": "",
       "version_major": 2,
       "version_minor": 0
      },
      "text/plain": [
       "Validation: 0it [00:00, ?it/s]"
      ]
     },
     "metadata": {},
     "output_type": "display_data"
    },
    {
     "data": {
      "application/json": {
       "ascii": false,
       "bar_format": null,
       "colour": null,
       "elapsed": 0.019320249557495117,
       "initial": 0,
       "n": 0,
       "ncols": 150,
       "nrows": 30,
       "postfix": null,
       "prefix": "Validation",
       "rate": null,
       "total": null,
       "unit": "it",
       "unit_divisor": 1000,
       "unit_scale": false
      },
      "application/vnd.jupyter.widget-view+json": {
       "model_id": "",
       "version_major": 2,
       "version_minor": 0
      },
      "text/plain": [
       "Validation: 0it [00:00, ?it/s]"
      ]
     },
     "metadata": {},
     "output_type": "display_data"
    },
    {
     "data": {
      "application/json": {
       "ascii": false,
       "bar_format": null,
       "colour": null,
       "elapsed": 0.02408123016357422,
       "initial": 0,
       "n": 0,
       "ncols": 150,
       "nrows": 30,
       "postfix": null,
       "prefix": "Validation",
       "rate": null,
       "total": null,
       "unit": "it",
       "unit_divisor": 1000,
       "unit_scale": false
      },
      "application/vnd.jupyter.widget-view+json": {
       "model_id": "",
       "version_major": 2,
       "version_minor": 0
      },
      "text/plain": [
       "Validation: 0it [00:00, ?it/s]"
      ]
     },
     "metadata": {},
     "output_type": "display_data"
    },
    {
     "data": {
      "application/json": {
       "ascii": false,
       "bar_format": null,
       "colour": null,
       "elapsed": 0.0244753360748291,
       "initial": 0,
       "n": 0,
       "ncols": 150,
       "nrows": 30,
       "postfix": null,
       "prefix": "Validation",
       "rate": null,
       "total": null,
       "unit": "it",
       "unit_divisor": 1000,
       "unit_scale": false
      },
      "application/vnd.jupyter.widget-view+json": {
       "model_id": "",
       "version_major": 2,
       "version_minor": 0
      },
      "text/plain": [
       "Validation: 0it [00:00, ?it/s]"
      ]
     },
     "metadata": {},
     "output_type": "display_data"
    },
    {
     "data": {
      "application/json": {
       "ascii": false,
       "bar_format": null,
       "colour": null,
       "elapsed": 0.020127534866333008,
       "initial": 0,
       "n": 0,
       "ncols": 150,
       "nrows": 30,
       "postfix": null,
       "prefix": "Validation",
       "rate": null,
       "total": null,
       "unit": "it",
       "unit_divisor": 1000,
       "unit_scale": false
      },
      "application/vnd.jupyter.widget-view+json": {
       "model_id": "",
       "version_major": 2,
       "version_minor": 0
      },
      "text/plain": [
       "Validation: 0it [00:00, ?it/s]"
      ]
     },
     "metadata": {},
     "output_type": "display_data"
    },
    {
     "data": {
      "application/json": {
       "ascii": false,
       "bar_format": null,
       "colour": null,
       "elapsed": 0.02437877655029297,
       "initial": 0,
       "n": 0,
       "ncols": 150,
       "nrows": 30,
       "postfix": null,
       "prefix": "Validation",
       "rate": null,
       "total": null,
       "unit": "it",
       "unit_divisor": 1000,
       "unit_scale": false
      },
      "application/vnd.jupyter.widget-view+json": {
       "model_id": "",
       "version_major": 2,
       "version_minor": 0
      },
      "text/plain": [
       "Validation: 0it [00:00, ?it/s]"
      ]
     },
     "metadata": {},
     "output_type": "display_data"
    },
    {
     "data": {
      "application/json": {
       "ascii": false,
       "bar_format": null,
       "colour": null,
       "elapsed": 0.020939350128173828,
       "initial": 0,
       "n": 0,
       "ncols": 150,
       "nrows": 30,
       "postfix": null,
       "prefix": "Validation",
       "rate": null,
       "total": null,
       "unit": "it",
       "unit_divisor": 1000,
       "unit_scale": false
      },
      "application/vnd.jupyter.widget-view+json": {
       "model_id": "",
       "version_major": 2,
       "version_minor": 0
      },
      "text/plain": [
       "Validation: 0it [00:00, ?it/s]"
      ]
     },
     "metadata": {},
     "output_type": "display_data"
    },
    {
     "data": {
      "application/json": {
       "ascii": false,
       "bar_format": null,
       "colour": null,
       "elapsed": 0.024385452270507812,
       "initial": 0,
       "n": 0,
       "ncols": 150,
       "nrows": 30,
       "postfix": null,
       "prefix": "Validation",
       "rate": null,
       "total": null,
       "unit": "it",
       "unit_divisor": 1000,
       "unit_scale": false
      },
      "application/vnd.jupyter.widget-view+json": {
       "model_id": "",
       "version_major": 2,
       "version_minor": 0
      },
      "text/plain": [
       "Validation: 0it [00:00, ?it/s]"
      ]
     },
     "metadata": {},
     "output_type": "display_data"
    },
    {
     "name": "stderr",
     "output_type": "stream",
     "text": [
      "`Trainer.fit` stopped: `max_epochs=30` reached.\n"
     ]
    }
   ],
   "source": [
    "# Train the model\n",
    "trainer.fit(lightning_model, data_module)"
   ]
  },
  {
   "cell_type": "code",
   "execution_count": 22,
   "metadata": {},
   "outputs": [],
   "source": [
    "X1_test = np.array(X1_test.tolist())\n",
    "X2_test = np.array(X2_test.tolist())\n",
    "y_test = np.array(y_test.tolist())"
   ]
  },
  {
   "cell_type": "code",
   "execution_count": 23,
   "metadata": {},
   "outputs": [],
   "source": [
    "y_predict = lightning_model.predict(torch.tensor(X1_test,dtype=torch.float),torch.tensor(X2_test,dtype=torch.float))"
   ]
  },
  {
   "cell_type": "code",
   "execution_count": 24,
   "metadata": {},
   "outputs": [],
   "source": [
    "y_predict = y_predict.cpu().detach().numpy()\n",
    "y_predict = np.array(y_predict.ravel())"
   ]
  },
  {
   "cell_type": "code",
   "execution_count": 25,
   "metadata": {},
   "outputs": [],
   "source": [
    "Prediction = pd.DataFrame({'Target':y_test, 'Predicted_probability':y_predict})"
   ]
  },
  {
   "cell_type": "code",
   "execution_count": 26,
   "metadata": {},
   "outputs": [
    {
     "name": "stderr",
     "output_type": "stream",
     "text": [
      "/tmp/ipykernel_25086/650287538.py:2: SettingWithCopyWarning: \n",
      "A value is trying to be set on a copy of a slice from a DataFrame\n",
      "\n",
      "See the caveats in the documentation: https://pandas.pydata.org/pandas-docs/stable/user_guide/indexing.html#returning-a-view-versus-a-copy\n",
      "  Prediction[\"Predicted\"][Prediction[\"Predicted_probability\"] > 0.8] = 1\n"
     ]
    }
   ],
   "source": [
    "Prediction[\"Predicted\"] = 0\n",
    "Prediction[\"Predicted\"][Prediction[\"Predicted_probability\"] > 0.8] = 1"
   ]
  },
  {
   "cell_type": "code",
   "execution_count": 27,
   "metadata": {},
   "outputs": [
    {
     "data": {
      "text/plain": [
       "0.9504307560499636"
      ]
     },
     "execution_count": 27,
     "metadata": {},
     "output_type": "execute_result"
    }
   ],
   "source": [
    "accuracy_score(Prediction[\"Target\"], Prediction[\"Predicted\"])"
   ]
  },
  {
   "cell_type": "code",
   "execution_count": 28,
   "metadata": {},
   "outputs": [],
   "source": [
    "#AUC curve\n",
    "from sklearn.metrics import roc_curve, auc\n",
    "import matplotlib.pyplot as plt\n",
    "\n",
    "def plot_roc_curve(y_true, y_score):\n",
    "    \"\"\"\n",
    "    Plot ROC curve and compute AUC.\n",
    "    \n",
    "    Parameters:\n",
    "        y_true (array-like): True binary labels.\n",
    "        y_score (array-like): Target scores, can either be probability estimates of the positive class or confidence values.\n",
    "        \n",
    "    Returns:\n",
    "        auc_score: Area under the ROC curve.\n",
    "    \"\"\"\n",
    "    fpr, tpr, thresholds = roc_curve(y_true, y_score)\n",
    "    auc_score = auc(fpr, tpr)\n",
    "    \n",
    "    plt.figure(figsize=(8, 6))\n",
    "    plt.plot(fpr, tpr, color='darkorange', lw=2, label='ROC curve (area = %0.2f)' % auc_score)\n",
    "    plt.plot([0, 1], [0, 1], color='navy', lw=2, linestyle='--')\n",
    "    plt.xlim([0.0, 1.0])\n",
    "    plt.ylim([0.0, 1.02])\n",
    "    plt.xlabel('False Positive Rate')\n",
    "    plt.ylabel('True Positive Rate')\n",
    "    plt.title('Receiver Operating Characteristic (ROC) Curve')\n",
    "    plt.legend(loc='lower right')\n",
    "    plt.show()\n",
    "    \n",
    "    return auc_score\n"
   ]
  },
  {
   "cell_type": "code",
   "execution_count": 29,
   "metadata": {},
   "outputs": [
    {
     "data": {
      "image/png": "[encoded data removed]",
      "text/plain": [
       "<Figure size 576x432 with 1 Axes>"
      ]
     },
     "metadata": {
      "needs_background": "light"
     },
     "output_type": "display_data"
    },
    {
     "data": {
      "text/plain": [
       "0.8633306345570765"
      ]
     },
     "execution_count": 29,
     "metadata": {},
     "output_type": "execute_result"
    }
   ],
   "source": [
    "plot_roc_curve(Prediction[\"Target\"],Prediction[\"Predicted_probability\"])\n"
   ]
  },
  {
   "cell_type": "code",
   "execution_count": 30,
   "metadata": {},
   "outputs": [],
   "source": [
    "#checking on test data"
   ]
  },
  {
   "cell_type": "code",
   "execution_count": 34,
   "metadata": {},
   "outputs": [],
   "source": [
    "# Input the data and modify for training the model\n",
    "test_data['peptide_input'] = test_data['clean_peptide'].apply(one_hot_encoding)\n"
   ]
  },
  {
   "cell_type": "code",
   "execution_count": 36,
   "metadata": {},
   "outputs": [],
   "source": [
    "\n",
    "pep_test = np.array(test_data[\"peptide_input\"].tolist()) \n",
    "pro_test = np.array(test_data[\"protein_embed\"].tolist())\n",
    "target_test = np.array(test_data[\"hit\"].tolist())"
   ]
  },
  {
   "cell_type": "code",
   "execution_count": null,
   "metadata": {},
   "outputs": [],
   "source": [
    "target_predict = lightning_model.predict(torch.tensor(pep_test,dtype=torch.float),torch.tensor(pro_test,dtype=torch.float))"
   ]
  },
  {
   "cell_type": "code",
   "execution_count": null,
   "metadata": {},
   "outputs": [],
   "source": [
    "target_predict = target_predict.cpu().detach().numpy()\n",
    "target_predict = np.array(target_predict.ravel())"
   ]
  },
  {
   "cell_type": "code",
   "execution_count": null,
   "metadata": {},
   "outputs": [],
   "source": [
    "Prediction_testdata = pd.DataFrame({'Target':target_test, 'Predicted_probability':target_predict})"
   ]
  },
  {
   "cell_type": "code",
   "execution_count": null,
   "metadata": {},
   "outputs": [],
   "source": [
    "Prediction_testdata[\"Predicted\"] = 0\n",
    "Prediction_testdata[\"Predicted\"][Prediction_testdata[\"Predicted_probability\"] > 0.5] = 1"
   ]
  },
  {
   "cell_type": "code",
   "execution_count": null,
   "metadata": {},
   "outputs": [],
   "source": [
    "accuracy_score(Prediction_testdata[\"Target\"], Prediction_testdata[\"Predicted\"])"
   ]
  },
  {
   "cell_type": "code",
   "execution_count": 2,
   "metadata": {},
   "outputs": [],
   "source": [
    "def save_model(self,path):\n",
    "    torch.save(self.model.state_dict(),path)\n",
    "\n",
    "\n",
    "def reload_model(self,path):\n",
    "    self.model.load_state_dict(torch.load(path))\n",
    "    self.model.eval()"
   ]
  },
  {
   "cell_type": "code",
   "execution_count": null,
   "metadata": {},
   "outputs": [],
   "source": []
  }
 ],
 "metadata": {
  "kernelspec": {
   "display_name": "Python 3 (ipykernel)",
   "language": "python",
   "name": "python3"
  },
  "language_info": {
   "codemirror_mode": {
    "name": "ipython",
    "version": 3
   },
   "file_extension": ".py",
   "mimetype": "text/x-python",
   "name": "python",
   "nbconvert_exporter": "python",
   "pygments_lexer": "ipython3",
   "version": "3.10.4"
  }
 },
 "nbformat": 4,
 "nbformat_minor": 4
}
